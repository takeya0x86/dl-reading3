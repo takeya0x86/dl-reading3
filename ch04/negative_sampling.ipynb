{
 "cells": [
  {
   "cell_type": "markdown",
   "metadata": {},
   "source": [
    "## 4.2 word2vecの改良②\n",
    "\n",
    "### 4.2.5 Negative Sampling\n",
    "\n",
    "ここまでで「多値分類」から「二値分類」へと変換できた。\n",
    "正例（正しい答え）だけでなく負例（誤った答え）についても正しい判定ができなくてはならない\n",
    "\n",
    "しかし、すべての負例に対して二値分類の学習を行っては語彙数が増えた時に計算量が膨大になる。\n",
    "　⇨近似解として負例をいくつかピックアップする\n",
    " \n",
    " ### 4.2.6 Negative Samplingのサンプリング手法\n",
    " \n",
    " * ランダムにサンプリングするのではなく、コーパスの統計データに基づいてサンプリングを行う\n",
    " * コーパスでよく使われる単語は抽出されやすくし、あまり使われない単語は抽出されにくくする\n",
    " * コーパスから各単語の出現した回数を求め、これを確率分布で表す。その確率分布から単語をサンプリングする\n",
    " \n",
    "####  `np.random.choice` メソッドの使い方"
   ]
  },
  {
   "cell_type": "code",
   "execution_count": 6,
   "metadata": {},
   "outputs": [
    {
     "data": {
      "text/plain": [
       "6"
      ]
     },
     "execution_count": 6,
     "metadata": {},
     "output_type": "execute_result"
    }
   ],
   "source": [
    "import numpy as np\n",
    "\n",
    "# 0から9の数字の中からひとつの数字をランダムにサンプリング\n",
    "np.random.choice(10)"
   ]
  },
  {
   "cell_type": "code",
   "execution_count": 5,
   "metadata": {},
   "outputs": [
    {
     "data": {
      "text/plain": [
       "'I'"
      ]
     },
     "execution_count": 5,
     "metadata": {},
     "output_type": "execute_result"
    }
   ],
   "source": [
    "# wordsからひとつだけランダムにサンプリング\n",
    "words = ['you', 'say', 'goodbye', 'I', 'hello', '.']\n",
    "np.random.choice(words)"
   ]
  },
  {
   "cell_type": "code",
   "execution_count": null,
   "metadata": {},
   "outputs": [],
   "source": []
  },
  {
   "cell_type": "markdown",
   "metadata": {},
   "source": [
    "word2vecで提案されたNegative Samplingでは元となる確率分布に対して0.75を累乗する。\n",
    "「0.75乗」することによって確率の低い単語に対してその確率を少しだけ高くすることができる。"
   ]
  },
  {
   "cell_type": "code",
   "execution_count": 9,
   "metadata": {},
   "outputs": [
    {
     "name": "stdout",
     "output_type": "stream",
     "text": [
      "[0.64196878 0.33150408 0.02652714]\n"
     ]
    }
   ],
   "source": [
    "p = [0.7, 0.29, 0.01]\n",
    "new_p = np.power(p, 0.75)\n",
    "new_p /= np.sum(new_p)\n",
    "print(new_p)"
   ]
  },
  {
   "cell_type": "markdown",
   "metadata": {},
   "source": [
    "ただし、0.75に理論的な意味はなく、0.75以外の値に設定することも可能。"
   ]
  }
 ],
 "metadata": {
  "kernelspec": {
   "display_name": "Python 3",
   "language": "python",
   "name": "python3"
  },
  "language_info": {
   "codemirror_mode": {
    "name": "ipython",
    "version": 3
   },
   "file_extension": ".py",
   "mimetype": "text/x-python",
   "name": "python",
   "nbconvert_exporter": "python",
   "pygments_lexer": "ipython3",
   "version": "3.7.0"
  }
 },
 "nbformat": 4,
 "nbformat_minor": 2
}
