{
 "cells": [
  {
   "cell_type": "markdown",
   "metadata": {},
   "source": [
    "# CBOWモデルの評価"
   ]
  },
  {
   "cell_type": "code",
   "execution_count": 17,
   "metadata": {},
   "outputs": [],
   "source": [
    "import sys\n",
    "sys.path.append('..')\n",
    "from common.util import most_similar, analogy\n",
    "import pickle\n",
    "\n",
    "pkl_file = 'cbow_params.pkl'\n",
    "\n",
    "with open(pkl_file, 'rb') as f:\n",
    "    params = pickle.load(f)\n",
    "    word_vecs = params['word_vecs']\n",
    "    word_to_id = params['word_to_id']\n",
    "    id_to_word = params['id_to_word']"
   ]
  },
  {
   "cell_type": "markdown",
   "metadata": {},
   "source": [
    "### 類似単語を探す"
   ]
  },
  {
   "cell_type": "code",
   "execution_count": 18,
   "metadata": {},
   "outputs": [
    {
     "name": "stdout",
     "output_type": "stream",
     "text": [
      "\n",
      "[query] you\n",
      " we: 0.716796875\n",
      " i: 0.7099609375\n",
      " weird: 0.60888671875\n",
      " your: 0.60009765625\n",
      " anything: 0.59130859375\n",
      "\n",
      "[query] year\n",
      " month: 0.84814453125\n",
      " week: 0.7783203125\n",
      " spring: 0.76904296875\n",
      " summer: 0.76611328125\n",
      " decade: 0.7109375\n",
      "\n",
      "[query] car\n",
      " truck: 0.6455078125\n",
      " window: 0.619140625\n",
      " cars: 0.611328125\n",
      " luxury: 0.59033203125\n",
      " auto: 0.583984375\n",
      "\n",
      "[query] toyota\n",
      " seita: 0.66357421875\n",
      " honda: 0.654296875\n",
      " engines: 0.6474609375\n",
      " nissan: 0.6328125\n",
      " minicomputers: 0.62109375\n"
     ]
    }
   ],
   "source": [
    "querys = ['you', 'year', 'car', 'toyota'] \n",
    "for query in querys:\n",
    "    most_similar(query, word_to_id, id_to_word, word_vecs, top=5)"
   ]
  },
  {
   "cell_type": "markdown",
   "metadata": {},
   "source": [
    "### 類推問題（アナロジー問題）"
   ]
  },
  {
   "cell_type": "code",
   "execution_count": 19,
   "metadata": {},
   "outputs": [
    {
     "name": "stdout",
     "output_type": "stream",
     "text": [
      "\n",
      "[analogy] king:man = queen:?\n",
      " a.m: 6.765625\n",
      " woman: 5.859375\n",
      " daffynition: 5.40234375\n",
      " mother: 5.15234375\n",
      " lucky: 5.1015625\n",
      "\n",
      "[analogy] take:took = go:?\n",
      " were: 4.3671875\n",
      " went: 4.21875\n",
      " came: 4.140625\n",
      " 're: 3.921875\n",
      " began: 3.810546875\n",
      "\n",
      "[analogy] car:cars = child:?\n",
      " a.m: 6.609375\n",
      " rape: 5.72265625\n",
      " children: 5.41796875\n",
      " adults: 5.37890625\n",
      " daffynition: 5.23046875\n",
      "\n",
      "[analogy] good:better = bad:?\n",
      " rather: 5.32421875\n",
      " more: 5.125\n",
      " less: 4.87890625\n",
      " greater: 4.54296875\n",
      " faster: 4.16015625\n"
     ]
    }
   ],
   "source": [
    "analogy('king', 'man', 'queen',  word_to_id, id_to_word, word_vecs)\n",
    "analogy('take', 'took', 'go',  word_to_id, id_to_word, word_vecs)\n",
    "analogy('car', 'cars', 'child',  word_to_id, id_to_word, word_vecs)\n",
    "analogy('good', 'better', 'bad',  word_to_id, id_to_word, word_vecs)"
   ]
  }
 ],
 "metadata": {
  "kernelspec": {
   "display_name": "Python 3",
   "language": "python",
   "name": "python3"
  },
  "language_info": {
   "codemirror_mode": {
    "name": "ipython",
    "version": 3
   },
   "file_extension": ".py",
   "mimetype": "text/x-python",
   "name": "python",
   "nbconvert_exporter": "python",
   "pygments_lexer": "ipython3",
   "version": "3.7.0"
  }
 },
 "nbformat": 4,
 "nbformat_minor": 2
}
